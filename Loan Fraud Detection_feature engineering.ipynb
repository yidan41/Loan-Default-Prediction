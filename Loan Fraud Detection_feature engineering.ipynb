{
 "cells": [
  {
   "cell_type": "markdown",
   "metadata": {},
   "source": [
    "# Loan Default Prediction -  part 2 Feature Engineering\n",
    "\n",
    "_by Yidan Nie_\n",
    "\n",
    "# Goal of this part:\n",
    "__* Data quality checking__\n",
    "- Duplicates, Missing values, Cardinality, Errors\n",
    "\n",
    "__* Feature Engineering__\n",
    "- Conversions of Categorial Variables and Imputation\n",
    "- One-hot Encoding, Bucketing"
   ]
  },
  {
   "cell_type": "markdown",
   "metadata": {
    "toc": true
   },
   "source": [
    "<h1>Table of Contents<span class=\"tocSkip\"></span></h1>\n",
    "<div class=\"toc\"><ul class=\"toc-item\"><li><span><a href=\"#Check-duplicates\" data-toc-modified-id=\"Check-duplicates-1\"><span class=\"toc-item-num\">1&nbsp;&nbsp;</span>Check duplicates</a></span></li><li><span><a href=\"#Check-Missing-Values\" data-toc-modified-id=\"Check-Missing-Values-2\"><span class=\"toc-item-num\">2&nbsp;&nbsp;</span>Check Missing Values</a></span></li><li><span><a href=\"#Check-Cardinality\" data-toc-modified-id=\"Check-Cardinality-3\"><span class=\"toc-item-num\">3&nbsp;&nbsp;</span>Check Cardinality</a></span></li><li><span><a href=\"#Whar-I-find:\" data-toc-modified-id=\"Whar-I-find:-4\"><span class=\"toc-item-num\">4&nbsp;&nbsp;</span>Whar I find:</a></span></li><li><span><a href=\"#Split-the-data\" data-toc-modified-id=\"Split-the-data-5\"><span class=\"toc-item-num\">5&nbsp;&nbsp;</span>Split the data</a></span></li><li><span><a href=\"#Conversion-and-Imputation\" data-toc-modified-id=\"Conversion-and-Imputation-6\"><span class=\"toc-item-num\">6&nbsp;&nbsp;</span>Conversion and Imputation</a></span><ul class=\"toc-item\"><li><span><a href=\"#features-with-missing-values\" data-toc-modified-id=\"features-with-missing-values-6.1\"><span class=\"toc-item-num\">6.1&nbsp;&nbsp;</span>features with missing values</a></span></li><li><span><a href=\"#Conversion\" data-toc-modified-id=\"Conversion-6.2\"><span class=\"toc-item-num\">6.2&nbsp;&nbsp;</span>Conversion</a></span><ul class=\"toc-item\"><li><span><a href=\"#generate-new-variable-about-fico-score\" data-toc-modified-id=\"generate-new-variable-about-fico-score-6.2.1\"><span class=\"toc-item-num\">6.2.1&nbsp;&nbsp;</span>generate new variable about fico score</a></span></li><li><span><a href=\"#convert-data-type-of-columns\" data-toc-modified-id=\"convert-data-type-of-columns-6.2.2\"><span class=\"toc-item-num\">6.2.2&nbsp;&nbsp;</span>convert data type of columns</a></span></li><li><span><a href=\"#time-related-feature-conversion\" data-toc-modified-id=\"time-related-feature-conversion-6.2.3\"><span class=\"toc-item-num\">6.2.3&nbsp;&nbsp;</span>time-related feature conversion</a></span></li></ul></li><li><span><a href=\"#Drop\" data-toc-modified-id=\"Drop-6.3\"><span class=\"toc-item-num\">6.3&nbsp;&nbsp;</span>Drop</a></span></li><li><span><a href=\"#One-hot-encoding\" data-toc-modified-id=\"One-hot-encoding-6.4\"><span class=\"toc-item-num\">6.4&nbsp;&nbsp;</span>One-hot encoding</a></span></li></ul></li></ul></div>"
   ]
  },
  {
   "cell_type": "code",
   "execution_count": 1,
   "metadata": {},
   "outputs": [],
   "source": [
    "import pandas as pd\n",
    "import numpy as np\n",
    "import pandas_profiling\n",
    "import matplotlib.pyplot as plt\n",
    "import seaborn as sns"
   ]
  },
  {
   "cell_type": "markdown",
   "metadata": {},
   "source": [
    "Load the data"
   ]
  },
  {
   "cell_type": "code",
   "execution_count": 69,
   "metadata": {},
   "outputs": [],
   "source": [
    "data = pd.read_csv('data1.csv')\n",
    "meta = pd.read_csv('meta_data.csv')"
   ]
  },
  {
   "cell_type": "code",
   "execution_count": 70,
   "metadata": {
    "scrolled": true
   },
   "outputs": [
    {
     "data": {
      "text/html": [
       "<div>\n",
       "<style scoped>\n",
       "    .dataframe tbody tr th:only-of-type {\n",
       "        vertical-align: middle;\n",
       "    }\n",
       "\n",
       "    .dataframe tbody tr th {\n",
       "        vertical-align: top;\n",
       "    }\n",
       "\n",
       "    .dataframe thead th {\n",
       "        text-align: right;\n",
       "    }\n",
       "</style>\n",
       "<table border=\"1\" class=\"dataframe\">\n",
       "  <thead>\n",
       "    <tr style=\"text-align: right;\">\n",
       "      <th></th>\n",
       "      <th>id</th>\n",
       "      <th>loan_amnt</th>\n",
       "      <th>term</th>\n",
       "      <th>installment</th>\n",
       "      <th>emp_length</th>\n",
       "      <th>home_ownership</th>\n",
       "      <th>annual_inc</th>\n",
       "      <th>verification_status</th>\n",
       "      <th>issue_d</th>\n",
       "      <th>loan_status</th>\n",
       "      <th>...</th>\n",
       "      <th>earliest_cr_line</th>\n",
       "      <th>fico_range_low</th>\n",
       "      <th>fico_range_high</th>\n",
       "      <th>acc_now_delinq</th>\n",
       "      <th>delinq_amnt</th>\n",
       "      <th>delinq_2yrs</th>\n",
       "      <th>mths_since_last_delinq</th>\n",
       "      <th>mths_since_last_record</th>\n",
       "      <th>inq_last_6mths</th>\n",
       "      <th>inq_last_12m</th>\n",
       "    </tr>\n",
       "  </thead>\n",
       "  <tbody>\n",
       "    <tr>\n",
       "      <th>0</th>\n",
       "      <td>54027458</td>\n",
       "      <td>14000</td>\n",
       "      <td>36 months</td>\n",
       "      <td>439.88</td>\n",
       "      <td>5 years</td>\n",
       "      <td>RENT</td>\n",
       "      <td>50000.0</td>\n",
       "      <td>Source Verified</td>\n",
       "      <td>Jul-15</td>\n",
       "      <td>0</td>\n",
       "      <td>...</td>\n",
       "      <td>Oct-96</td>\n",
       "      <td>725</td>\n",
       "      <td>729</td>\n",
       "      <td>0</td>\n",
       "      <td>0</td>\n",
       "      <td>0</td>\n",
       "      <td>NaN</td>\n",
       "      <td>42.0</td>\n",
       "      <td>0</td>\n",
       "      <td>NaN</td>\n",
       "    </tr>\n",
       "    <tr>\n",
       "      <th>1</th>\n",
       "      <td>72594974</td>\n",
       "      <td>7500</td>\n",
       "      <td>36 months</td>\n",
       "      <td>252.67</td>\n",
       "      <td>3 years</td>\n",
       "      <td>MORTGAGE</td>\n",
       "      <td>68000.0</td>\n",
       "      <td>Not Verified</td>\n",
       "      <td>Feb-16</td>\n",
       "      <td>0</td>\n",
       "      <td>...</td>\n",
       "      <td>Nov-00</td>\n",
       "      <td>660</td>\n",
       "      <td>664</td>\n",
       "      <td>0</td>\n",
       "      <td>0</td>\n",
       "      <td>0</td>\n",
       "      <td>NaN</td>\n",
       "      <td>NaN</td>\n",
       "      <td>2</td>\n",
       "      <td>5.0</td>\n",
       "    </tr>\n",
       "    <tr>\n",
       "      <th>2</th>\n",
       "      <td>71061534</td>\n",
       "      <td>25000</td>\n",
       "      <td>36 months</td>\n",
       "      <td>870.44</td>\n",
       "      <td>5 years</td>\n",
       "      <td>RENT</td>\n",
       "      <td>55000.0</td>\n",
       "      <td>Verified</td>\n",
       "      <td>Feb-16</td>\n",
       "      <td>0</td>\n",
       "      <td>...</td>\n",
       "      <td>Mar-08</td>\n",
       "      <td>755</td>\n",
       "      <td>759</td>\n",
       "      <td>0</td>\n",
       "      <td>0</td>\n",
       "      <td>0</td>\n",
       "      <td>NaN</td>\n",
       "      <td>NaN</td>\n",
       "      <td>1</td>\n",
       "      <td>3.0</td>\n",
       "    </tr>\n",
       "    <tr>\n",
       "      <th>3</th>\n",
       "      <td>54474095</td>\n",
       "      <td>12000</td>\n",
       "      <td>36 months</td>\n",
       "      <td>382.55</td>\n",
       "      <td>5 years</td>\n",
       "      <td>RENT</td>\n",
       "      <td>30000.0</td>\n",
       "      <td>Not Verified</td>\n",
       "      <td>Jul-15</td>\n",
       "      <td>0</td>\n",
       "      <td>...</td>\n",
       "      <td>Nov-10</td>\n",
       "      <td>730</td>\n",
       "      <td>734</td>\n",
       "      <td>0</td>\n",
       "      <td>0</td>\n",
       "      <td>0</td>\n",
       "      <td>NaN</td>\n",
       "      <td>NaN</td>\n",
       "      <td>0</td>\n",
       "      <td>NaN</td>\n",
       "    </tr>\n",
       "    <tr>\n",
       "      <th>4</th>\n",
       "      <td>45704513</td>\n",
       "      <td>30000</td>\n",
       "      <td>60 months</td>\n",
       "      <td>677.85</td>\n",
       "      <td>10+ years</td>\n",
       "      <td>RENT</td>\n",
       "      <td>84000.0</td>\n",
       "      <td>Verified</td>\n",
       "      <td>Apr-15</td>\n",
       "      <td>0</td>\n",
       "      <td>...</td>\n",
       "      <td>Mar-01</td>\n",
       "      <td>720</td>\n",
       "      <td>724</td>\n",
       "      <td>0</td>\n",
       "      <td>0</td>\n",
       "      <td>0</td>\n",
       "      <td>NaN</td>\n",
       "      <td>NaN</td>\n",
       "      <td>0</td>\n",
       "      <td>NaN</td>\n",
       "    </tr>\n",
       "  </tbody>\n",
       "</table>\n",
       "<p>5 rows × 23 columns</p>\n",
       "</div>"
      ],
      "text/plain": [
       "         id  loan_amnt       term  installment emp_length home_ownership  \\\n",
       "0  54027458      14000  36 months       439.88    5 years           RENT   \n",
       "1  72594974       7500  36 months       252.67    3 years       MORTGAGE   \n",
       "2  71061534      25000  36 months       870.44    5 years           RENT   \n",
       "3  54474095      12000  36 months       382.55    5 years           RENT   \n",
       "4  45704513      30000  60 months       677.85  10+ years           RENT   \n",
       "\n",
       "   annual_inc verification_status issue_d  loan_status      ...       \\\n",
       "0     50000.0     Source Verified  Jul-15            0      ...        \n",
       "1     68000.0        Not Verified  Feb-16            0      ...        \n",
       "2     55000.0            Verified  Feb-16            0      ...        \n",
       "3     30000.0        Not Verified  Jul-15            0      ...        \n",
       "4     84000.0            Verified  Apr-15            0      ...        \n",
       "\n",
       "  earliest_cr_line fico_range_low  fico_range_high acc_now_delinq  \\\n",
       "0           Oct-96            725              729              0   \n",
       "1           Nov-00            660              664              0   \n",
       "2           Mar-08            755              759              0   \n",
       "3           Nov-10            730              734              0   \n",
       "4           Mar-01            720              724              0   \n",
       "\n",
       "   delinq_amnt  delinq_2yrs  mths_since_last_delinq  mths_since_last_record  \\\n",
       "0            0            0                     NaN                    42.0   \n",
       "1            0            0                     NaN                     NaN   \n",
       "2            0            0                     NaN                     NaN   \n",
       "3            0            0                     NaN                     NaN   \n",
       "4            0            0                     NaN                     NaN   \n",
       "\n",
       "   inq_last_6mths  inq_last_12m  \n",
       "0               0           NaN  \n",
       "1               2           5.0  \n",
       "2               1           3.0  \n",
       "3               0           NaN  \n",
       "4               0           NaN  \n",
       "\n",
       "[5 rows x 23 columns]"
      ]
     },
     "execution_count": 70,
     "metadata": {},
     "output_type": "execute_result"
    }
   ],
   "source": [
    "data = data.drop(data.columns[0],axis = 1)\n",
    "data.head()"
   ]
  },
  {
   "cell_type": "code",
   "execution_count": 71,
   "metadata": {
    "scrolled": true
   },
   "outputs": [],
   "source": [
    "meta.set_index('var_name', inplace=True)"
   ]
  },
  {
   "cell_type": "code",
   "execution_count": 72,
   "metadata": {},
   "outputs": [
    {
     "data": {
      "text/html": [
       "<div>\n",
       "<style scoped>\n",
       "    .dataframe tbody tr th:only-of-type {\n",
       "        vertical-align: middle;\n",
       "    }\n",
       "\n",
       "    .dataframe tbody tr th {\n",
       "        vertical-align: top;\n",
       "    }\n",
       "\n",
       "    .dataframe thead th {\n",
       "        text-align: right;\n",
       "    }\n",
       "</style>\n",
       "<table border=\"1\" class=\"dataframe\">\n",
       "  <thead>\n",
       "    <tr style=\"text-align: right;\">\n",
       "      <th></th>\n",
       "      <th>role</th>\n",
       "      <th>var_type</th>\n",
       "      <th>keep</th>\n",
       "      <th>dtype</th>\n",
       "    </tr>\n",
       "    <tr>\n",
       "      <th>var_name</th>\n",
       "      <th></th>\n",
       "      <th></th>\n",
       "      <th></th>\n",
       "      <th></th>\n",
       "    </tr>\n",
       "  </thead>\n",
       "  <tbody>\n",
       "    <tr>\n",
       "      <th>id</th>\n",
       "      <td>id</td>\n",
       "      <td>ordinal</td>\n",
       "      <td>False</td>\n",
       "      <td>int64</td>\n",
       "    </tr>\n",
       "    <tr>\n",
       "      <th>loan_amnt</th>\n",
       "      <td>input</td>\n",
       "      <td>interval</td>\n",
       "      <td>True</td>\n",
       "      <td>int64</td>\n",
       "    </tr>\n",
       "    <tr>\n",
       "      <th>term</th>\n",
       "      <td>input</td>\n",
       "      <td>binary</td>\n",
       "      <td>True</td>\n",
       "      <td>object</td>\n",
       "    </tr>\n",
       "    <tr>\n",
       "      <th>installment</th>\n",
       "      <td>input</td>\n",
       "      <td>interval</td>\n",
       "      <td>True</td>\n",
       "      <td>float64</td>\n",
       "    </tr>\n",
       "    <tr>\n",
       "      <th>emp_length</th>\n",
       "      <td>input</td>\n",
       "      <td>nominal</td>\n",
       "      <td>True</td>\n",
       "      <td>object</td>\n",
       "    </tr>\n",
       "  </tbody>\n",
       "</table>\n",
       "</div>"
      ],
      "text/plain": [
       "              role  var_type   keep    dtype\n",
       "var_name                                    \n",
       "id              id   ordinal  False    int64\n",
       "loan_amnt    input  interval   True    int64\n",
       "term         input    binary   True   object\n",
       "installment  input  interval   True  float64\n",
       "emp_length   input   nominal   True   object"
      ]
     },
     "execution_count": 72,
     "metadata": {},
     "output_type": "execute_result"
    }
   ],
   "source": [
    "meta.head()"
   ]
  },
  {
   "cell_type": "markdown",
   "metadata": {},
   "source": [
    "# Data quality checking"
   ]
  },
  {
   "cell_type": "markdown",
   "metadata": {},
   "source": [
    "## Check duplicates"
   ]
  },
  {
   "cell_type": "code",
   "execution_count": 50,
   "metadata": {},
   "outputs": [
    {
     "name": "stdout",
     "output_type": "stream",
     "text": [
      "There is no duplicated entry based on id number.\n"
     ]
    }
   ],
   "source": [
    "def CheckDuplicates(data):\n",
    "    before = data['id'].nunique()\n",
    "    after = len(data.id)\n",
    "    if before == after:\n",
    "        print( 'There is no duplicated entry based on id number.')\n",
    "    else:\n",
    "        print( 'There is',(after-before), 'duplicates based on id number.')\n",
    "\n",
    "CheckDuplicates(data=data)\n",
    "    "
   ]
  },
  {
   "cell_type": "markdown",
   "metadata": {},
   "source": [
    "## Check Missing Values"
   ]
  },
  {
   "cell_type": "code",
   "execution_count": 51,
   "metadata": {},
   "outputs": [
    {
     "name": "stdout",
     "output_type": "stream",
     "text": [
      "Variable emp_length has 1005 records (5.72%) with missing values\n",
      "Variable mths_since_last_delinq has 8326 records (47.38%) with missing values\n",
      "Variable mths_since_last_record has 14171 records (80.65%) with missing values\n",
      "Variable inq_last_12m has 12970 records (73.81%) with missing values\n"
     ]
    }
   ],
   "source": [
    "def CheckMissings(data):\n",
    "    \n",
    "    global vars_with_missing\n",
    "    vars_with_missing = []\n",
    "\n",
    "    for f in data.columns:\n",
    "        missings = data[data[f].isnull()][f].shape[0]\n",
    "        if missings > 0:\n",
    "            vars_with_missing.append(f)\n",
    "            missings_perc = missings/data.shape[0]\n",
    "            print('Variable {} has {} records ({:.2%}) with missing values'.format(f, missings, missings_perc))\n",
    "\n",
    "CheckMissings(data=data)"
   ]
  },
  {
   "cell_type": "code",
   "execution_count": 19,
   "metadata": {},
   "outputs": [
    {
     "data": {
      "text/plain": [
       "<matplotlib.axes._subplots.AxesSubplot at 0x1a1b457f60>"
      ]
     },
     "execution_count": 19,
     "metadata": {},
     "output_type": "execute_result"
    },
    {
     "data": {
      "image/png": "[encoded data removed]",
      "text/plain": [
       "<Figure size 720x432 with 2 Axes>"
      ]
     },
     "metadata": {
      "needs_background": "light"
     },
     "output_type": "display_data"
    }
   ],
   "source": [
    "import missingno as msno\n",
    "# Nullity or missing values by columns\n",
    "msno.matrix(df=data.loc[:,vars_with_missing], figsize=(10, 6), color=(0.42, 0.1, 0.05))"
   ]
  },
  {
   "cell_type": "markdown",
   "metadata": {},
   "source": [
    "## Check Cardinality\n",
    "* Cardinality refers to the number of different values in a variable. If there are variables with many distinct values, we should handle these variables differently as they would result in too many dummy variables."
   ]
  },
  {
   "cell_type": "code",
   "execution_count": 27,
   "metadata": {
    "scrolled": true
   },
   "outputs": [
    {
     "name": "stdout",
     "output_type": "stream",
     "text": [
      "Variable emp_length has 11 distinct values\n",
      "Variable home_ownership has 3 distinct values\n",
      "Variable verification_status has 3 distinct values\n",
      "Variable issue_d has 21 distinct values\n",
      "Variable purpose has 13 distinct values\n",
      "Variable addr_state has 50 distinct values\n",
      "Variable earliest_cr_line has 548 distinct values\n"
     ]
    }
   ],
   "source": [
    "def CheckCardinality(data,col):\n",
    "    for f in col:\n",
    "        dist_values = data[f].value_counts().shape[0]\n",
    "        print('Variable {} has {} distinct values'.format(f, dist_values));\n",
    "        \n",
    "v = meta[(meta.var_type == 'nominal') & (meta.keep)].index\n",
    "CheckCardinality(data=data,col=v)"
   ]
  },
  {
   "cell_type": "markdown",
   "metadata": {},
   "source": [
    "## Whar I find:\n",
    "_Duplicates_\n",
    "* No duplicate\n",
    "\n",
    "_Errors_\n",
    "* One row has annual income as 0 and dti as 9999. I think there would be some errors in the process of data entry since applicant with no income is no chance to get a loan.\n",
    "\n",
    "_Missing Values_\n",
    "* There are 4 variables have missing values\n",
    "\n",
    "_Cardinality_\n",
    "* Except for home_ownership and verification_status, other variales have too many distinct values, which leads to some feature engineering based on insghts from EDA."
   ]
  },
  {
   "cell_type": "markdown",
   "metadata": {},
   "source": [
    "# Feature engineering"
   ]
  },
  {
   "cell_type": "markdown",
   "metadata": {},
   "source": [
    "## Split the data"
   ]
  },
  {
   "cell_type": "code",
   "execution_count": 116,
   "metadata": {},
   "outputs": [],
   "source": [
    "# Drop one row with error\n",
    "#for one record, its annual_inc is 0 and dti is 9999, which is an outlier, just drop it\n",
    "row_to_drop = data[data['annual_inc'] == 0].index\n",
    "data.drop(row_to_drop, inplace=True, axis=0)"
   ]
  },
  {
   "cell_type": "code",
   "execution_count": 117,
   "metadata": {},
   "outputs": [
    {
     "name": "stdout",
     "output_type": "stream",
     "text": [
      "x_train.shape: (14056, 21)\n",
      "y_train.shape: (14056,)\n",
      "x_test.shape: (3514, 21)\n",
      "y_test.shape: (3514,)\n"
     ]
    }
   ],
   "source": [
    "y = data['loan_status']\n",
    "x = data.drop(['id','loan_status'], axis=1)\n",
    "\n",
    "#split into train/test\n",
    "from sklearn.model_selection import train_test_split\n",
    "x_train, x_test, y_train, y_test = train_test_split(x, y, test_size=0.2, random_state=41)\n",
    "print(\"x_train.shape:\", x_train.shape)\n",
    "print(\"y_train.shape:\", y_train.shape)\n",
    "print(\"x_test.shape:\", x_test.shape)\n",
    "print(\"y_test.shape:\", y_test.shape)"
   ]
  },
  {
   "cell_type": "code",
   "execution_count": 74,
   "metadata": {},
   "outputs": [
    {
     "name": "stdout",
     "output_type": "stream",
     "text": [
      "In training data set, non_default class is 1.9 times more than the default class\n",
      "In testing data set, non-default class is 2.0 times more than the default class\n"
     ]
    }
   ],
   "source": [
    "#check distribution of the label column in both data sets\n",
    "train_dist = y_train.value_counts()\n",
    "test_dist = y_test.value_counts()\n",
    "\n",
    "print('In training data set, non_default class is',round(train_dist[0]/train_dist[1],1),'times more than the default class')\n",
    "print('In testing data set, non-default class is',round(test_dist[0]/test_dist[1],1),'times more than the default class')\n"
   ]
  },
  {
   "cell_type": "markdown",
   "metadata": {},
   "source": [
    "* Spliting training and testing data sets before feature engineering to avoid data leakage;\n",
    "* the distribution of target value is relatively identical in both training and testing data set."
   ]
  },
  {
   "cell_type": "markdown",
   "metadata": {},
   "source": [
    "## Conversion and Imputation"
   ]
  },
  {
   "cell_type": "markdown",
   "metadata": {},
   "source": [
    "### features with missing values"
   ]
  },
  {
   "cell_type": "code",
   "execution_count": 118,
   "metadata": {},
   "outputs": [
    {
     "name": "stderr",
     "output_type": "stream",
     "text": [
      "/anaconda3/lib/python3.7/site-packages/ipykernel_launcher.py:14: SettingWithCopyWarning: \n",
      "A value is trying to be set on a copy of a slice from a DataFrame.\n",
      "Try using .loc[row_indexer,col_indexer] = value instead\n",
      "\n",
      "See the caveats in the documentation: http://pandas.pydata.org/pandas-docs/stable/indexing.html#indexing-view-versus-copy\n",
      "  \n",
      "/anaconda3/lib/python3.7/site-packages/ipykernel_launcher.py:15: SettingWithCopyWarning: \n",
      "A value is trying to be set on a copy of a slice from a DataFrame.\n",
      "Try using .loc[row_indexer,col_indexer] = value instead\n",
      "\n",
      "See the caveats in the documentation: http://pandas.pydata.org/pandas-docs/stable/indexing.html#indexing-view-versus-copy\n",
      "  from ipykernel import kernelapp as app\n"
     ]
    }
   ],
   "source": [
    "#emp_length\n",
    "#create bins\n",
    "def emp_length_conversion(s):\n",
    "    if pd.isnull(s):\n",
    "        return 'missing'\n",
    "    elif s==\"< 1 year\" or s==\"1 year\" :\n",
    "        return '<= 1 year'\n",
    "    elif s=='10+ years':\n",
    "        return s\n",
    "    else:\n",
    "        return '2-9 years'\n",
    "\n",
    "\n",
    "x_train['emp_length'] = x_train['emp_length'].apply(emp_length_conversion)\n",
    "x_test['emp_length'] = x_test['emp_length'].apply(emp_length_conversion)"
   ]
  },
  {
   "cell_type": "code",
   "execution_count": 119,
   "metadata": {},
   "outputs": [
    {
     "name": "stderr",
     "output_type": "stream",
     "text": [
      "/anaconda3/lib/python3.7/site-packages/ipykernel_launcher.py:10: SettingWithCopyWarning: \n",
      "A value is trying to be set on a copy of a slice from a DataFrame.\n",
      "Try using .loc[row_indexer,col_indexer] = value instead\n",
      "\n",
      "See the caveats in the documentation: http://pandas.pydata.org/pandas-docs/stable/indexing.html#indexing-view-versus-copy\n",
      "  # Remove the CWD from sys.path while we load stuff.\n",
      "/anaconda3/lib/python3.7/site-packages/ipykernel_launcher.py:11: SettingWithCopyWarning: \n",
      "A value is trying to be set on a copy of a slice from a DataFrame.\n",
      "Try using .loc[row_indexer,col_indexer] = value instead\n",
      "\n",
      "See the caveats in the documentation: http://pandas.pydata.org/pandas-docs/stable/indexing.html#indexing-view-versus-copy\n",
      "  # This is added back by InteractiveShellApp.init_path()\n"
     ]
    }
   ],
   "source": [
    "#mths_since_last_delinq\n",
    "#encode NAN as 150\n",
    "def mths_since_last_delinq_conversion(s):\n",
    "    if pd.isnull(s):\n",
    "        #return a value that never appears in this column\n",
    "        return 150\n",
    "    else:\n",
    "        return s;\n",
    "\n",
    "x_train['mths_since_last_delinq'] = x_train['mths_since_last_delinq'].apply(mths_since_last_delinq_conversion)\n",
    "x_test['mths_since_last_delinq'] = x_test['mths_since_last_delinq'].apply(mths_since_last_delinq_conversion)"
   ]
  },
  {
   "cell_type": "code",
   "execution_count": 120,
   "metadata": {},
   "outputs": [
    {
     "name": "stderr",
     "output_type": "stream",
     "text": [
      "/anaconda3/lib/python3.7/site-packages/ipykernel_launcher.py:7: SettingWithCopyWarning: \n",
      "A value is trying to be set on a copy of a slice from a DataFrame.\n",
      "Try using .loc[row_indexer,col_indexer] = value instead\n",
      "\n",
      "See the caveats in the documentation: http://pandas.pydata.org/pandas-docs/stable/indexing.html#indexing-view-versus-copy\n",
      "  import sys\n",
      "/anaconda3/lib/python3.7/site-packages/ipykernel_launcher.py:13: SettingWithCopyWarning: \n",
      "A value is trying to be set on a copy of a slice from a DataFrame.\n",
      "Try using .loc[row_indexer,col_indexer] = value instead\n",
      "\n",
      "See the caveats in the documentation: http://pandas.pydata.org/pandas-docs/stable/indexing.html#indexing-view-versus-copy\n",
      "  del sys.path[0]\n"
     ]
    }
   ],
   "source": [
    "#mths_since_last_record\n",
    "\n",
    "\n",
    "#drop and if missing encode 1 for new feature 'lastrecord_missing'\n",
    "x_train.insert(18, 'lastrecord_missing', 0)\n",
    "\n",
    "x_train['lastrecord_missing'] = x_train['mths_since_last_record'].isnull().astype(int)\n",
    "\n",
    "\n",
    "#drop and if missing encode 1 for new feature 'lastrecord_missing'\n",
    "x_test.insert(18, 'lastrecord_missing', 0)\n",
    "\n",
    "x_test['lastrecord_missing'] = x_test['mths_since_last_record'].isnull().astype(int)\n"
   ]
  },
  {
   "cell_type": "code",
   "execution_count": 121,
   "metadata": {},
   "outputs": [],
   "source": [
    "# Drop the variables with more than 73.8% of missing values\n",
    "vars_to_drop = ['inq_last_12m','mths_since_last_record']\n",
    "x_train=x_train.drop(vars_to_drop, axis=1)\n",
    "x_test=x_test.drop(vars_to_drop,axis=1)\n",
    "# Updating the meta\n",
    "meta.loc[(vars_to_drop),'keep'] = False  "
   ]
  },
  {
   "cell_type": "markdown",
   "metadata": {},
   "source": [
    "### Conversion"
   ]
  },
  {
   "cell_type": "markdown",
   "metadata": {},
   "source": [
    "#### generate new variable about fico score"
   ]
  },
  {
   "cell_type": "code",
   "execution_count": 122,
   "metadata": {},
   "outputs": [],
   "source": [
    "#convert 'fico_range_?' into 'fico_score'\n",
    "def fico_conversion(data):\n",
    "    data['fico_score'] = (data['fico_range_low'] + data['fico_range_high'])/2\n",
    "    data.drop(['fico_range_low', 'fico_range_high'], inplace=True, axis=1)\n",
    "    \n",
    "fico_conversion(x_train)\n",
    "fico_conversion(x_test)\n",
    "\n",
    "# Updating the meta\n",
    "vars_to_drop = ['fico_range_low', 'fico_range_high']\n",
    "meta.loc[(vars_to_drop),'keep'] = False  "
   ]
  },
  {
   "cell_type": "markdown",
   "metadata": {},
   "source": [
    "#### convert data type of columns"
   ]
  },
  {
   "cell_type": "code",
   "execution_count": 123,
   "metadata": {},
   "outputs": [],
   "source": [
    "#acc_now_delinq\n",
    "x_train['acc_now_delinq']=x_train['acc_now_delinq'].apply(str)\n",
    "#term\n",
    "x_train['term'] = (x_train.term == '36 months').astype(int)\n",
    "\n",
    "#acc_now_delinq\n",
    "x_test['acc_now_delinq']=x_test['acc_now_delinq'].apply(str)\n",
    "#term\n",
    "x_test['term'] = (x_test.term == '36 months').astype(int)"
   ]
  },
  {
   "cell_type": "markdown",
   "metadata": {},
   "source": [
    "#### time-related feature conversion"
   ]
  },
  {
   "cell_type": "code",
   "execution_count": 124,
   "metadata": {},
   "outputs": [],
   "source": [
    "#earliest_cr_line and issue_d\n",
    "\n",
    "x_train['month_earliest_cr_line'] = (pd.to_datetime(x_train['issue_d'], format='%b-%y', yearfirst=False) - \n",
    "                        pd.to_datetime(x_train['earliest_cr_line'], format='%b-%y', yearfirst=False)).dt.days/30\n",
    "# the data is in the 19th century, add 1200 days\n",
    "def interval_conversion(s):\n",
    "    if s <0:\n",
    "        return s + 1200\n",
    "    else:\n",
    "        return s\n",
    "x_train['month_earliest_cr_line'] = x_train['month_earliest_cr_line'].apply(interval_conversion)\n",
    "x_train.drop(['issue_d','earliest_cr_line'], inplace=True, axis=1)      \n",
    "\n",
    "\n",
    "\n",
    "x_test['month_earliest_cr_line'] = (pd.to_datetime(x_test['issue_d'], format='%b-%y', yearfirst=False) - \n",
    "                        pd.to_datetime(x_test['earliest_cr_line'], format='%b-%y', yearfirst=False)).dt.days/30\n",
    "# the data is in the 19th century, add 1200 days\n",
    "def interval_conversion(s):\n",
    "    if s <0:\n",
    "        return s + 1200\n",
    "    else:\n",
    "        return s\n",
    "x_test['month_earliest_cr_line'] = x_test['month_earliest_cr_line'].apply(interval_conversion)\n",
    "x_test.drop(['issue_d','earliest_cr_line'], inplace=True, axis=1)      \n"
   ]
  },
  {
   "cell_type": "markdown",
   "metadata": {},
   "source": [
    "### Drop"
   ]
  },
  {
   "cell_type": "code",
   "execution_count": 125,
   "metadata": {},
   "outputs": [],
   "source": [
    "#installment\n",
    "#high correlation with loan_amount\n",
    "x_train.drop('installment', inplace=True, axis=1)"
   ]
  },
  {
   "cell_type": "code",
   "execution_count": 126,
   "metadata": {},
   "outputs": [
    {
     "data": {
      "text/html": [
       "<div>\n",
       "<style scoped>\n",
       "    .dataframe tbody tr th:only-of-type {\n",
       "        vertical-align: middle;\n",
       "    }\n",
       "\n",
       "    .dataframe tbody tr th {\n",
       "        vertical-align: top;\n",
       "    }\n",
       "\n",
       "    .dataframe thead th {\n",
       "        text-align: right;\n",
       "    }\n",
       "</style>\n",
       "<table border=\"1\" class=\"dataframe\">\n",
       "  <thead>\n",
       "    <tr style=\"text-align: right;\">\n",
       "      <th></th>\n",
       "      <th>role</th>\n",
       "      <th>var_type</th>\n",
       "      <th>keep</th>\n",
       "      <th>dtype</th>\n",
       "    </tr>\n",
       "    <tr>\n",
       "      <th>var_name</th>\n",
       "      <th></th>\n",
       "      <th></th>\n",
       "      <th></th>\n",
       "      <th></th>\n",
       "    </tr>\n",
       "  </thead>\n",
       "  <tbody>\n",
       "    <tr>\n",
       "      <th>id</th>\n",
       "      <td>id</td>\n",
       "      <td>ordinal</td>\n",
       "      <td>False</td>\n",
       "      <td>int64</td>\n",
       "    </tr>\n",
       "    <tr>\n",
       "      <th>loan_amnt</th>\n",
       "      <td>input</td>\n",
       "      <td>interval</td>\n",
       "      <td>True</td>\n",
       "      <td>int64</td>\n",
       "    </tr>\n",
       "    <tr>\n",
       "      <th>term</th>\n",
       "      <td>input</td>\n",
       "      <td>binary</td>\n",
       "      <td>True</td>\n",
       "      <td>object</td>\n",
       "    </tr>\n",
       "    <tr>\n",
       "      <th>installment</th>\n",
       "      <td>input</td>\n",
       "      <td>interval</td>\n",
       "      <td>True</td>\n",
       "      <td>float64</td>\n",
       "    </tr>\n",
       "    <tr>\n",
       "      <th>emp_length</th>\n",
       "      <td>input</td>\n",
       "      <td>nominal</td>\n",
       "      <td>True</td>\n",
       "      <td>object</td>\n",
       "    </tr>\n",
       "    <tr>\n",
       "      <th>home_ownership</th>\n",
       "      <td>input</td>\n",
       "      <td>nominal</td>\n",
       "      <td>True</td>\n",
       "      <td>object</td>\n",
       "    </tr>\n",
       "    <tr>\n",
       "      <th>annual_inc</th>\n",
       "      <td>input</td>\n",
       "      <td>interval</td>\n",
       "      <td>True</td>\n",
       "      <td>float64</td>\n",
       "    </tr>\n",
       "    <tr>\n",
       "      <th>verification_status</th>\n",
       "      <td>input</td>\n",
       "      <td>nominal</td>\n",
       "      <td>True</td>\n",
       "      <td>object</td>\n",
       "    </tr>\n",
       "    <tr>\n",
       "      <th>issue_d</th>\n",
       "      <td>input</td>\n",
       "      <td>nominal</td>\n",
       "      <td>True</td>\n",
       "      <td>object</td>\n",
       "    </tr>\n",
       "    <tr>\n",
       "      <th>loan_status</th>\n",
       "      <td>target</td>\n",
       "      <td>binary</td>\n",
       "      <td>True</td>\n",
       "      <td>int64</td>\n",
       "    </tr>\n",
       "    <tr>\n",
       "      <th>purpose</th>\n",
       "      <td>input</td>\n",
       "      <td>nominal</td>\n",
       "      <td>True</td>\n",
       "      <td>object</td>\n",
       "    </tr>\n",
       "    <tr>\n",
       "      <th>addr_state</th>\n",
       "      <td>input</td>\n",
       "      <td>nominal</td>\n",
       "      <td>True</td>\n",
       "      <td>object</td>\n",
       "    </tr>\n",
       "    <tr>\n",
       "      <th>dti</th>\n",
       "      <td>input</td>\n",
       "      <td>interval</td>\n",
       "      <td>True</td>\n",
       "      <td>float64</td>\n",
       "    </tr>\n",
       "    <tr>\n",
       "      <th>earliest_cr_line</th>\n",
       "      <td>input</td>\n",
       "      <td>nominal</td>\n",
       "      <td>True</td>\n",
       "      <td>object</td>\n",
       "    </tr>\n",
       "    <tr>\n",
       "      <th>fico_range_low</th>\n",
       "      <td>input</td>\n",
       "      <td>interval</td>\n",
       "      <td>True</td>\n",
       "      <td>int64</td>\n",
       "    </tr>\n",
       "    <tr>\n",
       "      <th>fico_range_high</th>\n",
       "      <td>input</td>\n",
       "      <td>interval</td>\n",
       "      <td>True</td>\n",
       "      <td>int64</td>\n",
       "    </tr>\n",
       "    <tr>\n",
       "      <th>acc_now_delinq</th>\n",
       "      <td>input</td>\n",
       "      <td>ordinal</td>\n",
       "      <td>True</td>\n",
       "      <td>int64</td>\n",
       "    </tr>\n",
       "    <tr>\n",
       "      <th>delinq_amnt</th>\n",
       "      <td>input</td>\n",
       "      <td>interval</td>\n",
       "      <td>True</td>\n",
       "      <td>int64</td>\n",
       "    </tr>\n",
       "    <tr>\n",
       "      <th>delinq_2yrs</th>\n",
       "      <td>input</td>\n",
       "      <td>ordinal</td>\n",
       "      <td>True</td>\n",
       "      <td>int64</td>\n",
       "    </tr>\n",
       "    <tr>\n",
       "      <th>mths_since_last_delinq</th>\n",
       "      <td>input</td>\n",
       "      <td>interval</td>\n",
       "      <td>True</td>\n",
       "      <td>float64</td>\n",
       "    </tr>\n",
       "    <tr>\n",
       "      <th>mths_since_last_record</th>\n",
       "      <td>input</td>\n",
       "      <td>interval</td>\n",
       "      <td>False</td>\n",
       "      <td>float64</td>\n",
       "    </tr>\n",
       "    <tr>\n",
       "      <th>inq_last_6mths</th>\n",
       "      <td>input</td>\n",
       "      <td>ordinal</td>\n",
       "      <td>True</td>\n",
       "      <td>int64</td>\n",
       "    </tr>\n",
       "    <tr>\n",
       "      <th>inq_last_12m</th>\n",
       "      <td>input</td>\n",
       "      <td>interval</td>\n",
       "      <td>False</td>\n",
       "      <td>float64</td>\n",
       "    </tr>\n",
       "  </tbody>\n",
       "</table>\n",
       "</div>"
      ],
      "text/plain": [
       "                          role  var_type   keep    dtype\n",
       "var_name                                                \n",
       "id                          id   ordinal  False    int64\n",
       "loan_amnt                input  interval   True    int64\n",
       "term                     input    binary   True   object\n",
       "installment              input  interval   True  float64\n",
       "emp_length               input   nominal   True   object\n",
       "home_ownership           input   nominal   True   object\n",
       "annual_inc               input  interval   True  float64\n",
       "verification_status      input   nominal   True   object\n",
       "issue_d                  input   nominal   True   object\n",
       "loan_status             target    binary   True    int64\n",
       "purpose                  input   nominal   True   object\n",
       "addr_state               input   nominal   True   object\n",
       "dti                      input  interval   True  float64\n",
       "earliest_cr_line         input   nominal   True   object\n",
       "fico_range_low           input  interval   True    int64\n",
       "fico_range_high          input  interval   True    int64\n",
       "acc_now_delinq           input   ordinal   True    int64\n",
       "delinq_amnt              input  interval   True    int64\n",
       "delinq_2yrs              input   ordinal   True    int64\n",
       "mths_since_last_delinq   input  interval   True  float64\n",
       "mths_since_last_record   input  interval  False  float64\n",
       "inq_last_6mths           input   ordinal   True    int64\n",
       "inq_last_12m             input  interval  False  float64"
      ]
     },
     "execution_count": 126,
     "metadata": {},
     "output_type": "execute_result"
    }
   ],
   "source": [
    "meta"
   ]
  },
  {
   "cell_type": "markdown",
   "metadata": {},
   "source": [
    "### One-hot encoding"
   ]
  },
  {
   "cell_type": "code",
   "execution_count": 128,
   "metadata": {},
   "outputs": [
    {
     "name": "stdout",
     "output_type": "stream",
     "text": [
      "Before dummification we have 17 variables in train\n",
      "After dummification we have 57 variables in train\n"
     ]
    }
   ],
   "source": [
    "#one-hot encoding for catgorial features\n",
    "\n",
    "#For training data set\n",
    "\n",
    "print('Before dummification we have {} variables in train'.format(x_train.shape[1]))\n",
    "\n",
    "x_train = pd.get_dummies(x_train, columns=['home_ownership','verification_status','purpose','emp_length','acc_now_delinq','delinq_2yrs','addr_state'], drop_first=True)\n",
    "print('After dummification we have {} variables in train'.format(x_train.shape[1]))"
   ]
  },
  {
   "cell_type": "code",
   "execution_count": 129,
   "metadata": {},
   "outputs": [
    {
     "name": "stdout",
     "output_type": "stream",
     "text": [
      "Before dummification we have 18 variables in train\n",
      "After dummification we have 57 variables in train\n"
     ]
    }
   ],
   "source": [
    "#For testing data set\n",
    "\n",
    "print('Before dummification we have {} variables in train'.format(x_test.shape[1]))\n",
    "\n",
    "x_test = pd.get_dummies(x_test, columns=['home_ownership','verification_status','purpose','emp_length','acc_now_delinq','delinq_2yrs','addr_state'], drop_first=True)\n",
    "print('After dummification we have {} variables in train'.format(x_train.shape[1]))"
   ]
  },
  {
   "cell_type": "code",
   "execution_count": 130,
   "metadata": {
    "scrolled": true
   },
   "outputs": [
    {
     "data": {
      "text/html": [
       "<div>\n",
       "<style scoped>\n",
       "    .dataframe tbody tr th:only-of-type {\n",
       "        vertical-align: middle;\n",
       "    }\n",
       "\n",
       "    .dataframe tbody tr th {\n",
       "        vertical-align: top;\n",
       "    }\n",
       "\n",
       "    .dataframe thead th {\n",
       "        text-align: right;\n",
       "    }\n",
       "</style>\n",
       "<table border=\"1\" class=\"dataframe\">\n",
       "  <thead>\n",
       "    <tr style=\"text-align: right;\">\n",
       "      <th></th>\n",
       "      <th>loan_amnt</th>\n",
       "      <th>term</th>\n",
       "      <th>annual_inc</th>\n",
       "      <th>dti</th>\n",
       "      <th>delinq_amnt</th>\n",
       "      <th>mths_since_last_delinq</th>\n",
       "      <th>lastrecord_missing</th>\n",
       "      <th>inq_last_6mths</th>\n",
       "      <th>fico_score</th>\n",
       "      <th>month_earliest_cr_line</th>\n",
       "      <th>...</th>\n",
       "      <th>addr_state_FL</th>\n",
       "      <th>addr_state_IL</th>\n",
       "      <th>addr_state_NC</th>\n",
       "      <th>addr_state_NJ</th>\n",
       "      <th>addr_state_NY</th>\n",
       "      <th>addr_state_OH</th>\n",
       "      <th>addr_state_Others</th>\n",
       "      <th>addr_state_PA</th>\n",
       "      <th>addr_state_TX</th>\n",
       "      <th>addr_state_VA</th>\n",
       "    </tr>\n",
       "  </thead>\n",
       "  <tbody>\n",
       "    <tr>\n",
       "      <th>5157</th>\n",
       "      <td>35000</td>\n",
       "      <td>0</td>\n",
       "      <td>140000.0</td>\n",
       "      <td>10.11</td>\n",
       "      <td>0</td>\n",
       "      <td>13.0</td>\n",
       "      <td>1</td>\n",
       "      <td>0</td>\n",
       "      <td>662.0</td>\n",
       "      <td>193.800000</td>\n",
       "      <td>...</td>\n",
       "      <td>0</td>\n",
       "      <td>0</td>\n",
       "      <td>0</td>\n",
       "      <td>0</td>\n",
       "      <td>0</td>\n",
       "      <td>0</td>\n",
       "      <td>1</td>\n",
       "      <td>0</td>\n",
       "      <td>0</td>\n",
       "      <td>0</td>\n",
       "    </tr>\n",
       "    <tr>\n",
       "      <th>16332</th>\n",
       "      <td>12000</td>\n",
       "      <td>1</td>\n",
       "      <td>172000.0</td>\n",
       "      <td>12.50</td>\n",
       "      <td>0</td>\n",
       "      <td>48.0</td>\n",
       "      <td>1</td>\n",
       "      <td>0</td>\n",
       "      <td>672.0</td>\n",
       "      <td>179.533333</td>\n",
       "      <td>...</td>\n",
       "      <td>0</td>\n",
       "      <td>0</td>\n",
       "      <td>0</td>\n",
       "      <td>0</td>\n",
       "      <td>1</td>\n",
       "      <td>0</td>\n",
       "      <td>0</td>\n",
       "      <td>0</td>\n",
       "      <td>0</td>\n",
       "      <td>0</td>\n",
       "    </tr>\n",
       "    <tr>\n",
       "      <th>579</th>\n",
       "      <td>35000</td>\n",
       "      <td>0</td>\n",
       "      <td>73300.0</td>\n",
       "      <td>24.60</td>\n",
       "      <td>0</td>\n",
       "      <td>150.0</td>\n",
       "      <td>1</td>\n",
       "      <td>5</td>\n",
       "      <td>722.0</td>\n",
       "      <td>151.166667</td>\n",
       "      <td>...</td>\n",
       "      <td>0</td>\n",
       "      <td>0</td>\n",
       "      <td>0</td>\n",
       "      <td>0</td>\n",
       "      <td>0</td>\n",
       "      <td>0</td>\n",
       "      <td>0</td>\n",
       "      <td>0</td>\n",
       "      <td>1</td>\n",
       "      <td>0</td>\n",
       "    </tr>\n",
       "    <tr>\n",
       "      <th>16216</th>\n",
       "      <td>14000</td>\n",
       "      <td>0</td>\n",
       "      <td>52000.0</td>\n",
       "      <td>14.96</td>\n",
       "      <td>0</td>\n",
       "      <td>150.0</td>\n",
       "      <td>0</td>\n",
       "      <td>0</td>\n",
       "      <td>677.0</td>\n",
       "      <td>178.533333</td>\n",
       "      <td>...</td>\n",
       "      <td>0</td>\n",
       "      <td>0</td>\n",
       "      <td>0</td>\n",
       "      <td>0</td>\n",
       "      <td>0</td>\n",
       "      <td>0</td>\n",
       "      <td>0</td>\n",
       "      <td>0</td>\n",
       "      <td>0</td>\n",
       "      <td>0</td>\n",
       "    </tr>\n",
       "    <tr>\n",
       "      <th>17378</th>\n",
       "      <td>5000</td>\n",
       "      <td>1</td>\n",
       "      <td>35000.0</td>\n",
       "      <td>24.55</td>\n",
       "      <td>0</td>\n",
       "      <td>150.0</td>\n",
       "      <td>1</td>\n",
       "      <td>0</td>\n",
       "      <td>667.0</td>\n",
       "      <td>216.066667</td>\n",
       "      <td>...</td>\n",
       "      <td>1</td>\n",
       "      <td>0</td>\n",
       "      <td>0</td>\n",
       "      <td>0</td>\n",
       "      <td>0</td>\n",
       "      <td>0</td>\n",
       "      <td>0</td>\n",
       "      <td>0</td>\n",
       "      <td>0</td>\n",
       "      <td>0</td>\n",
       "    </tr>\n",
       "  </tbody>\n",
       "</table>\n",
       "<p>5 rows × 57 columns</p>\n",
       "</div>"
      ],
      "text/plain": [
       "       loan_amnt  term  annual_inc    dti  delinq_amnt  \\\n",
       "5157       35000     0    140000.0  10.11            0   \n",
       "16332      12000     1    172000.0  12.50            0   \n",
       "579        35000     0     73300.0  24.60            0   \n",
       "16216      14000     0     52000.0  14.96            0   \n",
       "17378       5000     1     35000.0  24.55            0   \n",
       "\n",
       "       mths_since_last_delinq  lastrecord_missing  inq_last_6mths  fico_score  \\\n",
       "5157                     13.0                   1               0       662.0   \n",
       "16332                    48.0                   1               0       672.0   \n",
       "579                     150.0                   1               5       722.0   \n",
       "16216                   150.0                   0               0       677.0   \n",
       "17378                   150.0                   1               0       667.0   \n",
       "\n",
       "       month_earliest_cr_line      ...        addr_state_FL  addr_state_IL  \\\n",
       "5157               193.800000      ...                    0              0   \n",
       "16332              179.533333      ...                    0              0   \n",
       "579                151.166667      ...                    0              0   \n",
       "16216              178.533333      ...                    0              0   \n",
       "17378              216.066667      ...                    1              0   \n",
       "\n",
       "       addr_state_NC  addr_state_NJ  addr_state_NY  addr_state_OH  \\\n",
       "5157               0              0              0              0   \n",
       "16332              0              0              1              0   \n",
       "579                0              0              0              0   \n",
       "16216              0              0              0              0   \n",
       "17378              0              0              0              0   \n",
       "\n",
       "       addr_state_Others  addr_state_PA  addr_state_TX  addr_state_VA  \n",
       "5157                   1              0              0              0  \n",
       "16332                  0              0              0              0  \n",
       "579                    0              0              1              0  \n",
       "16216                  0              0              0              0  \n",
       "17378                  0              0              0              0  \n",
       "\n",
       "[5 rows x 57 columns]"
      ]
     },
     "execution_count": 130,
     "metadata": {},
     "output_type": "execute_result"
    }
   ],
   "source": [
    "x_train.head()"
   ]
  },
  {
   "cell_type": "code",
   "execution_count": 131,
   "metadata": {},
   "outputs": [],
   "source": [
    "x_train.to_csv('x_train.csv')\n",
    "x_test.to_csv('x_test.csv')\n",
    "y_train.to_csv('y_train.csv')\n",
    "y_test.to_csv('y_test.csv')"
   ]
  }
 ],
 "metadata": {
  "kernelspec": {
   "display_name": "Python 3",
   "language": "python",
   "name": "python3"
  },
  "language_info": {
   "codemirror_mode": {
    "name": "ipython",
    "version": 3
   },
   "file_extension": ".py",
   "mimetype": "text/x-python",
   "name": "python",
   "nbconvert_exporter": "python",
   "pygments_lexer": "ipython3",
   "version": "3.7.1"
  },
  "toc": {
   "base_numbering": 1,
   "nav_menu": {},
   "number_sections": true,
   "sideBar": true,
   "skip_h1_title": true,
   "title_cell": "Table of Contents",
   "title_sidebar": "Contents",
   "toc_cell": true,
   "toc_position": {
    "height": "calc(100% - 180px)",
    "left": "10px",
    "top": "150px",
    "width": "288px"
   },
   "toc_section_display": true,
   "toc_window_display": true
  }
 },
 "nbformat": 4,
 "nbformat_minor": 2
}
